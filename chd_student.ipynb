{
  "nbformat": 4,
  "nbformat_minor": 0,
  "metadata": {
    "kernelspec": {
      "display_name": "Python 3",
      "language": "python",
      "name": "python3"
    },
    "language_info": {
      "codemirror_mode": {
        "name": "ipython",
        "version": 3
      },
      "file_extension": ".py",
      "mimetype": "text/x-python",
      "name": "python",
      "nbconvert_exporter": "python",
      "pygments_lexer": "ipython3",
      "version": "3.8.3"
    },
    "colab": {
      "name": "chd_student.ipynb",
      "provenance": []
    }
  },
  "cells": [
    {
      "cell_type": "markdown",
      "metadata": {
        "id": "2BGe9Qh1MlPt"
      },
      "source": [
        "# Week 3: CHD Classification\n",
        "\n",
        "## Introduction\n",
        "\n",
        "Hey! Here's the decision trees assignment for this week! We're going to be using decision trees, and bootstrapped and boosted decision trees to classify whether patients are likely to develop coronary heart disease. Our dataset is taken from patients from the town of Framington Massachusetts.\n",
        "\n",
        "Throughout the document, the elements labeled with TODO are the ones you have to fill-in.\n",
        "\n",
        "## Python Libraries\n",
        "As always, first we import our tools. Don't worry if some of these packages seem weird to you right now; we'll explain everything when we use them."
      ]
    },
    {
      "cell_type": "code",
      "metadata": {
        "id": "YGjutEcEMlPu"
      },
      "source": [
        "from pathlib import Path\n",
        "\n",
        "import pandas as pd\n",
        "import matplotlib.pyplot as plt\n",
        "import numpy as np\n",
        "from functools import reduce\n",
        "from sklearn.model_selection import train_test_split\n",
        "from sklearn.tree import DecisionTreeClassifier, plot_tree\n",
        "from sklearn.metrics import accuracy_score\n",
        "import math"
      ],
      "execution_count": null,
      "outputs": []
    },
    {
      "cell_type": "markdown",
      "metadata": {
        "id": "nn66brdSMlPx"
      },
      "source": [
        "## Dataset\n",
        "Now we load the dataset, clean up the data, and split it into a train and a test subsets so we can measure the accuracy of our model. We also perform some data cleaning in the middle, which you're going to help with! Look at the comment labeled TODO, and put your code right under it."
      ]
    },
    {
      "cell_type": "code",
      "metadata": {
        "id": "_cj3d0cdMlPy"
      },
      "source": [
        "data = pd.read_csv('framingham.csv')\n",
        "\n",
        "#Some of the columns have NA elements, so we have to replace all of these elements\n",
        "#For some of the columns, we want to replace the NA elements with 0 (the categorical variables), \n",
        "#and others we want to use the mean\n",
        "\n",
        "columns_with_invalid_zeros_mean = ['glucose', 'cigsPerDay', 'totChol', 'BMI','heartRate']\n",
        "columns_to_put_zero = ['education','BPMeds']\n",
        "for col in columns_with_invalid_zeros_mean:\n",
        "    mean = data[col].mean()\n",
        "    data[col].fillna( mean, inplace=True)\n",
        "for col in columns_to_put_zero:\n",
        "    data[col].fillna(0, inplace=True)\n",
        "\n",
        "\n",
        "#TODO: Rename the last column, currently called \"TenYearCHD\" to \"target\" for convenience. \n",
        "#Hint: Use Dataframe methods.\n",
        "data.rename(columns={ \"TenYearCHD\": \"target\" }, inplace=True)\n",
        "\n",
        "\n",
        "# Note: we set `random_state` to ensure the same result every time we run the code\n",
        "data_train, data_test = train_test_split(data, train_size=.9, random_state=42)"
      ],
      "execution_count": null,
      "outputs": []
    },
    {
      "cell_type": "markdown",
      "metadata": {
        "id": "rVm0t45YMlP1"
      },
      "source": [
        "It is always a good idea to look at the raw data and check that everything looks alright."
      ]
    },
    {
      "cell_type": "code",
      "metadata": {
        "scrolled": false,
        "id": "0dG1ZbImMlP1",
        "colab": {
          "base_uri": "https://localhost:8080/",
          "height": 204
        },
        "outputId": "f5092ca4-2175-4694-d06a-3bdf8f39425a"
      },
      "source": [
        "data.head() #Shows the first 5 rows of the data"
      ],
      "execution_count": null,
      "outputs": [
        {
          "output_type": "execute_result",
          "data": {
            "text/html": [
              "<div>\n",
              "<style scoped>\n",
              "    .dataframe tbody tr th:only-of-type {\n",
              "        vertical-align: middle;\n",
              "    }\n",
              "\n",
              "    .dataframe tbody tr th {\n",
              "        vertical-align: top;\n",
              "    }\n",
              "\n",
              "    .dataframe thead th {\n",
              "        text-align: right;\n",
              "    }\n",
              "</style>\n",
              "<table border=\"1\" class=\"dataframe\">\n",
              "  <thead>\n",
              "    <tr style=\"text-align: right;\">\n",
              "      <th></th>\n",
              "      <th>male</th>\n",
              "      <th>age</th>\n",
              "      <th>education</th>\n",
              "      <th>currentSmoker</th>\n",
              "      <th>cigsPerDay</th>\n",
              "      <th>BPMeds</th>\n",
              "      <th>prevalentStroke</th>\n",
              "      <th>prevalentHyp</th>\n",
              "      <th>diabetes</th>\n",
              "      <th>totChol</th>\n",
              "      <th>sysBP</th>\n",
              "      <th>diaBP</th>\n",
              "      <th>BMI</th>\n",
              "      <th>heartRate</th>\n",
              "      <th>glucose</th>\n",
              "      <th>target</th>\n",
              "    </tr>\n",
              "  </thead>\n",
              "  <tbody>\n",
              "    <tr>\n",
              "      <th>0</th>\n",
              "      <td>1</td>\n",
              "      <td>39</td>\n",
              "      <td>4.0</td>\n",
              "      <td>0</td>\n",
              "      <td>0.0</td>\n",
              "      <td>0.0</td>\n",
              "      <td>0</td>\n",
              "      <td>0</td>\n",
              "      <td>0</td>\n",
              "      <td>195.0</td>\n",
              "      <td>106.0</td>\n",
              "      <td>70.0</td>\n",
              "      <td>26.97</td>\n",
              "      <td>80.0</td>\n",
              "      <td>77.0</td>\n",
              "      <td>0</td>\n",
              "    </tr>\n",
              "    <tr>\n",
              "      <th>1</th>\n",
              "      <td>0</td>\n",
              "      <td>46</td>\n",
              "      <td>2.0</td>\n",
              "      <td>0</td>\n",
              "      <td>0.0</td>\n",
              "      <td>0.0</td>\n",
              "      <td>0</td>\n",
              "      <td>0</td>\n",
              "      <td>0</td>\n",
              "      <td>250.0</td>\n",
              "      <td>121.0</td>\n",
              "      <td>81.0</td>\n",
              "      <td>28.73</td>\n",
              "      <td>95.0</td>\n",
              "      <td>76.0</td>\n",
              "      <td>0</td>\n",
              "    </tr>\n",
              "    <tr>\n",
              "      <th>2</th>\n",
              "      <td>1</td>\n",
              "      <td>48</td>\n",
              "      <td>1.0</td>\n",
              "      <td>1</td>\n",
              "      <td>20.0</td>\n",
              "      <td>0.0</td>\n",
              "      <td>0</td>\n",
              "      <td>0</td>\n",
              "      <td>0</td>\n",
              "      <td>245.0</td>\n",
              "      <td>127.5</td>\n",
              "      <td>80.0</td>\n",
              "      <td>25.34</td>\n",
              "      <td>75.0</td>\n",
              "      <td>70.0</td>\n",
              "      <td>0</td>\n",
              "    </tr>\n",
              "    <tr>\n",
              "      <th>3</th>\n",
              "      <td>0</td>\n",
              "      <td>61</td>\n",
              "      <td>3.0</td>\n",
              "      <td>1</td>\n",
              "      <td>30.0</td>\n",
              "      <td>0.0</td>\n",
              "      <td>0</td>\n",
              "      <td>1</td>\n",
              "      <td>0</td>\n",
              "      <td>225.0</td>\n",
              "      <td>150.0</td>\n",
              "      <td>95.0</td>\n",
              "      <td>28.58</td>\n",
              "      <td>65.0</td>\n",
              "      <td>103.0</td>\n",
              "      <td>1</td>\n",
              "    </tr>\n",
              "    <tr>\n",
              "      <th>4</th>\n",
              "      <td>0</td>\n",
              "      <td>46</td>\n",
              "      <td>3.0</td>\n",
              "      <td>1</td>\n",
              "      <td>23.0</td>\n",
              "      <td>0.0</td>\n",
              "      <td>0</td>\n",
              "      <td>0</td>\n",
              "      <td>0</td>\n",
              "      <td>285.0</td>\n",
              "      <td>130.0</td>\n",
              "      <td>84.0</td>\n",
              "      <td>23.10</td>\n",
              "      <td>85.0</td>\n",
              "      <td>85.0</td>\n",
              "      <td>0</td>\n",
              "    </tr>\n",
              "  </tbody>\n",
              "</table>\n",
              "</div>"
            ],
            "text/plain": [
              "   male  age  education  currentSmoker  ...    BMI  heartRate  glucose  target\n",
              "0     1   39        4.0              0  ...  26.97       80.0     77.0       0\n",
              "1     0   46        2.0              0  ...  28.73       95.0     76.0       0\n",
              "2     1   48        1.0              1  ...  25.34       75.0     70.0       0\n",
              "3     0   61        3.0              1  ...  28.58       65.0    103.0       1\n",
              "4     0   46        3.0              1  ...  23.10       85.0     85.0       0\n",
              "\n",
              "[5 rows x 16 columns]"
            ]
          },
          "metadata": {
            "tags": []
          },
          "execution_count": 3
        }
      ]
    },
    {
      "cell_type": "markdown",
      "metadata": {
        "id": "OtXGZ_UAMlP4"
      },
      "source": [
        "## Verifying Class Balance\n",
        "Since we split the database into two randomly, the balance of classes (number of healthy vs diseased outcomes) might be different between the training data and the test data. This would likely cause the model to perform very poorly because it would think healthy outcomes are either less or more common than they really are.\n",
        "\n",
        "This is a also a good time to check that our original data had balanced classes to begin with. If it did not, the model might learn to, for example, never classify a patient as having CHD since CHD is rare. It is like assuming about every person you meet that they cannot possibly have a billion dollars since almost nobody does. You would be right in 99% of cases, but if you met Jeff Bezos you would also never guess he is a billionaire,\n",
        "\n",
        "This is especially a problem with decision trees, since at some point, the model just assigns the most probable class as the output (when it gets to a leaf), so class imbalance could seriously hinder our training. \n",
        "\n",
        "\n",
        "Finally, this makes sense as a benchmark for model performance. A very naive model could just roll a die and respond randomly, with the chance of diabetes being its prevalence in the general population. It would be right more often than guessing 50-50, but would still fail to use any of the biometric data.\n",
        "We've filled in the calculation of the proportion of healthy people for the entire dataset; **your job** is to fill it in for the training and testing dataset."
      ]
    },
    {
      "cell_type": "code",
      "metadata": {
        "scrolled": true,
        "id": "kKCFJBA3MlP4",
        "colab": {
          "base_uri": "https://localhost:8080/",
          "height": 102
        },
        "outputId": "22df0d6c-838a-40a7-b105-f4a88c13c88a"
      },
      "source": [
        "healthy_proportion = len(data[data['target'] == 0]) / len(data)\n",
        "healthy_proportion_train = len(data_train[data_train['target'] == 0]) / len(data_train) #TODO: Find proportion of healthy people in training data\n",
        "healthy_proportion_test = len(data_test[data_test['target'] == 0]) / len(data_test) #TODO: Find proportion of healthy people in testing data\n",
        "print(f'Dataset diabetes prevalence: {(1 - healthy_proportion) * 100:.2f}%')\n",
        "print(f'Training data diabetes prevalence: {(1 - healthy_proportion_train) * 100:.2f}%')\n",
        "print(f'Test data diabetes prevalence: {(1 - healthy_proportion_test) * 100:.2f}%')\n",
        "print('All three values should be similar.')\n",
        "print('None of the values should be outrageously low <10%.')"
      ],
      "execution_count": null,
      "outputs": [
        {
          "output_type": "stream",
          "text": [
            "Dataset diabetes prevalence: 15.20%\n",
            "Training data diabetes prevalence: 15.23%\n",
            "Test data diabetes prevalence: 14.86%\n",
            "All three values should be similar.\n",
            "None of the values should be outrageously low <10%.\n"
          ],
          "name": "stdout"
        }
      ]
    },
    {
      "cell_type": "markdown",
      "metadata": {
        "id": "Or-8mI_jMlP8"
      },
      "source": [
        "## Features and Labels\n",
        "Now we extract the features (the biometrics) and the labels (the outcome) from the data.\n",
        "\n",
        "This step is required since the dataset does not tell the model which parameter it should be predicting."
      ]
    },
    {
      "cell_type": "code",
      "metadata": {
        "id": "2Gscrk6MMlP8"
      },
      "source": [
        "y = data_train['target']\n",
        "X = data_train.drop('target', axis=1)"
      ],
      "execution_count": null,
      "outputs": []
    },
    {
      "cell_type": "code",
      "metadata": {
        "id": "qa9J6RMPMlP-"
      },
      "source": [
        "y_test = data_test['target']\n",
        "X_test = data_test.drop('target', axis=1)"
      ],
      "execution_count": null,
      "outputs": []
    },
    {
      "cell_type": "markdown",
      "metadata": {
        "id": "Lw-1qqgnMlQB"
      },
      "source": [
        "## Decision  Trees\n",
        "We define a function for creating a decision tree with a given maximum depth. Later we compare trees of different depth and how their accuracy changes. \n",
        "\n",
        "**TODO**: In this method, make sure to fill in arguments to the DecisionTreeClassifier constructor so that max_depth and criterion are accounted for. **Additionally**, we want to only split a node if it has 50 samples or more (figure out what argument to pass into the constructor for this [here](https://scikit-learn.org/stable/modules/generated/sklearn.tree.DecisionTreeClassifier.html))"
      ]
    },
    {
      "cell_type": "code",
      "metadata": {
        "id": "JDwRGRD6MlQB"
      },
      "source": [
        "def decision_tree(X,y,max_depth=2, criterion=\"gini\", sample_weight=None):\n",
        "    tree = DecisionTreeClassifier(criterion=criterion, max_depth=max_depth, min_samples_split=50) #TODO: Fill in arguments to this constructor\n",
        "    tree.fit(X, y, sample_weight=sample_weight)\n",
        "    return tree"
      ],
      "execution_count": null,
      "outputs": []
    },
    {
      "cell_type": "markdown",
      "metadata": {
        "id": "Ng2YO2a4MlQE"
      },
      "source": [
        "## A Few Utilities\n",
        "These functions can display a tree as a graphic, and print its accuracy on both the training and the test data. Fill in the class labels, that'll be used to label the leaves of the tree."
      ]
    },
    {
      "cell_type": "code",
      "metadata": {
        "scrolled": true,
        "id": "JHkEIf3zMlQE"
      },
      "source": [
        "def show_tree(tree):\n",
        "    feature_names = data.columns\n",
        "    #TODO: Assign class_names to a list [x,y], where \n",
        "    #x is the name of the class assigned to 0\n",
        "    #y is the name of the class assigned to 1\n",
        "    class_names = ['healthy outcomes', 'diseased outcomes']\n",
        "\n",
        "    fig, axis = plt.subplots(nrows=1, ncols=1, figsize=(4, 2), dpi=300)\n",
        "    plot_tree(tree,\n",
        "              feature_names=feature_names, \n",
        "              class_names=class_names,\n",
        "              ax=axis,\n",
        "              filled=True,\n",
        "              impurity=False);"
      ],
      "execution_count": null,
      "outputs": []
    },
    {
      "cell_type": "markdown",
      "metadata": {
        "id": "s5zOPPujMlQG"
      },
      "source": [
        "This function helps us print the accuracy of a tree. We'll use it when testing."
      ]
    },
    {
      "cell_type": "code",
      "metadata": {
        "id": "4S9Z0X-PMlQH"
      },
      "source": [
        "def print_accuracy(tree):\n",
        "    train_acc = tree.score(X, y) * 100\n",
        "    test_acc = tree.score(X_test, y_test) * 100\n",
        "    \n",
        "    print(f'Train accuracy: {train_acc:.1f}%')\n",
        "    print(f'Test accuracy: {test_acc:.1f}%')\n",
        "    return train_acc, test_acc"
      ],
      "execution_count": null,
      "outputs": []
    },
    {
      "cell_type": "markdown",
      "metadata": {
        "id": "Qohf-ZpuMlQJ"
      },
      "source": [
        "We'll also need a function to plot the accuracies of the trees for different depths. Enter, `plot_accuracies`"
      ]
    },
    {
      "cell_type": "code",
      "metadata": {
        "id": "HWiol1VYMlQJ"
      },
      "source": [
        "def plot_accuracies(accuracies):\n",
        "    train_accuracy_plot = plt.plot([x[0] for x in accuracies], label='Train accuracy')\n",
        "    test_accuracy_plot = plt.plot([x[1] for x in accuracies], label='Test accuracy')\n",
        "    plt.legend()\n"
      ],
      "execution_count": null,
      "outputs": []
    },
    {
      "cell_type": "markdown",
      "metadata": {
        "id": "zJy0PUUXMlQL"
      },
      "source": [
        "Finally, some machine learning! Here, we're going to train the tree on the dataset, limiting the tree to different depths and checking how accuracy changes"
      ]
    },
    {
      "cell_type": "code",
      "metadata": {
        "scrolled": false,
        "id": "ZhBXKqBkMlQM",
        "colab": {
          "base_uri": "https://localhost:8080/",
          "height": 731
        },
        "outputId": "32e787e8-9ca3-46dd-a440-678edfb98eb1"
      },
      "source": [
        "accuracies = []\n",
        "trees=[]\n",
        "for i in range(1, 15):\n",
        "    tree = decision_tree(X, y, i) #TODO: Fill in the arguments to decision_tree\n",
        "    trees.append(tree)\n",
        "    print(f'Max depth: {i}')\n",
        "    accuracies.append(print_accuracy(tree))"
      ],
      "execution_count": null,
      "outputs": [
        {
          "output_type": "stream",
          "text": [
            "Max depth: 1\n",
            "Train accuracy: 84.8%\n",
            "Test accuracy: 85.1%\n",
            "Max depth: 2\n",
            "Train accuracy: 84.8%\n",
            "Test accuracy: 85.1%\n",
            "Max depth: 3\n",
            "Train accuracy: 85.0%\n",
            "Test accuracy: 84.9%\n",
            "Max depth: 4\n",
            "Train accuracy: 85.3%\n",
            "Test accuracy: 83.5%\n",
            "Max depth: 5\n",
            "Train accuracy: 85.8%\n",
            "Test accuracy: 83.3%\n",
            "Max depth: 6\n",
            "Train accuracy: 86.1%\n",
            "Test accuracy: 82.5%\n",
            "Max depth: 7\n",
            "Train accuracy: 86.3%\n",
            "Test accuracy: 81.8%\n",
            "Max depth: 8\n",
            "Train accuracy: 86.4%\n",
            "Test accuracy: 81.8%\n",
            "Max depth: 9\n",
            "Train accuracy: 86.5%\n",
            "Test accuracy: 81.1%\n",
            "Max depth: 10\n",
            "Train accuracy: 86.5%\n",
            "Test accuracy: 81.1%\n",
            "Max depth: 11\n",
            "Train accuracy: 86.6%\n",
            "Test accuracy: 81.1%\n",
            "Max depth: 12\n",
            "Train accuracy: 86.8%\n",
            "Test accuracy: 81.1%\n",
            "Max depth: 13\n",
            "Train accuracy: 86.8%\n",
            "Test accuracy: 80.9%\n",
            "Max depth: 14\n",
            "Train accuracy: 86.9%\n",
            "Test accuracy: 80.9%\n"
          ],
          "name": "stdout"
        }
      ]
    },
    {
      "cell_type": "code",
      "metadata": {
        "id": "sWOlzC8YMlQO",
        "colab": {
          "base_uri": "https://localhost:8080/",
          "height": 265
        },
        "outputId": "a28764df-e7b0-46af-eadb-f00312c75fd6"
      },
      "source": [
        "plot_accuracies(accuracies)"
      ],
      "execution_count": null,
      "outputs": [
        {
          "output_type": "display_data",
          "data": {
            "image/png": "[encoded data removed]",
            "text/plain": [
              "<Figure size 432x288 with 1 Axes>"
            ]
          },
          "metadata": {
            "tags": [],
            "needs_background": "light"
          }
        }
      ]
    },
    {
      "cell_type": "code",
      "metadata": {
        "id": "FAi6DYAyMlQQ",
        "colab": {
          "base_uri": "https://localhost:8080/",
          "height": 530
        },
        "outputId": "cd7b766d-de1c-444c-8e02-cd3f12b032e4"
      },
      "source": [
        "show_tree(trees[1])#Change the index to see trees with different depth. Notice anything particular about trees[0]?"
      ],
      "execution_count": null,
      "outputs": [
        {
          "output_type": "display_data",
          "data": {
            "image/png": "[encoded data removed]",
            "text/plain": [
              "<Figure size 1200x600 with 1 Axes>"
            ]
          },
          "metadata": {
            "tags": [],
            "needs_background": "light"
          }
        }
      ]
    },
    {
      "cell_type": "markdown",
      "metadata": {
        "id": "tf70zUXKMlQS"
      },
      "source": [
        "So what happened! Well, as the above graph shows, as we kept increasing the tree depth, our training accuracy went up, but our testing accuracy stayed the same. What is the standard name for this phenomenon, that we learned about in lecture?"
      ]
    },
    {
      "cell_type": "markdown",
      "metadata": {
        "id": "naa8umchMlQT"
      },
      "source": [
        "The standard name for this phenomenon is overfitting\n"
      ]
    },
    {
      "cell_type": "markdown",
      "metadata": {
        "id": "UmsXp6UrMlQT"
      },
      "source": [
        "## Random Forests"
      ]
    },
    {
      "cell_type": "markdown",
      "metadata": {
        "id": "qAAyS9yMMlQT"
      },
      "source": [
        "We're going to mitigate this problem by using Random Forests, the collection of decision trees we learned about in lecture. In this case, to understand the internal workings of a random forest, we're going to implement it as a collection of decision trees (note that in real life you would usually just use sci-kit learn's Random Forest algorithm, but here we're reinventing the wheel)\n"
      ]
    },
    {
      "cell_type": "markdown",
      "metadata": {
        "id": "bZcXeE5AMlQU"
      },
      "source": [
        "### Method 1: Bootstrapping"
      ]
    },
    {
      "cell_type": "markdown",
      "metadata": {
        "id": "8z_dl4s3MlQU"
      },
      "source": [
        "The first method we have to make is the `bootstrap_sample` method, which draws a bootstrap sample as we described in lecture. You're going to get to implement this one!"
      ]
    },
    {
      "cell_type": "markdown",
      "metadata": {
        "id": "77tKDHYeMlQV"
      },
      "source": [
        "Remember from lecture that a bootstrap sample of size n draws n elements from the dataset, **with replacement**. That means the same element can appear multiple times in the sample."
      ]
    },
    {
      "cell_type": "markdown",
      "metadata": {
        "id": "7cVz7AFGMlQV"
      },
      "source": [
        "X and y are the data that we will be sampling from. \n",
        "$$X=\n",
        "\\begin{bmatrix} \n",
        "-2&54&0&\\dots &2\\\\\n",
        "0&0&3&\\dots &0\\\\\n",
        "\\dots \\\\\n",
        "657&32&-6&8&\\dots&1\n",
        "\\end{bmatrix}$$\n",
        "$$y=\\begin{bmatrix}\n",
        "1\\\\0\\\\\\dots\\\\1\n",
        "\\end{bmatrix}\n",
        "$$\n",
        "X has as many rows as there are examples in the dataset, and as many columns as there are features for each example.\n",
        "Y also has as many rows as there are examples.\n",
        "In fact, row $i$ in $X$ is the features for example $i$, and row $i$ in y is the output for example $i$."
      ]
    },
    {
      "cell_type": "code",
      "metadata": {
        "id": "8m5HwEEGMlQV"
      },
      "source": [
        "#TODO: Implement bootstrap_sample.\n",
        "#Parameters:\n",
        "#X- All training data, as a Pandas Dataframe\n",
        "#Y - All the expected outputs as a Pandas Series\n",
        "#n - How many examples we want to be in the sample\n",
        "#Returns:\n",
        "#The features and correct outputs for the random_sample\n",
        "#(should follow the same format as X and y, just with only examples selected for the sample).\n",
        "def bootstrap_sample(X,y,n):\n",
        "    #TODO: YOUR CODE HERE\n",
        "    X_sample = X.sample(n=n, replace=True)\n",
        "    y_sample = y[X_sample.index]\n",
        "    return X_sample,y_sample"
      ],
      "execution_count": null,
      "outputs": []
    },
    {
      "cell_type": "markdown",
      "metadata": {
        "id": "3qjJfrrgMlQX"
      },
      "source": [
        "Now we're going to have to implement feature_sample. When random forests were first created, they would only do the above step of using bootstrapped samples for each tree. However, people who used them found that they were still very likely to over fit on the data. To prevent this overfitting, we add a second layer of randomness; each tree in the forest only gets to train on some random subset of the features. Here, we implement the process of choosing this random subset."
      ]
    },
    {
      "cell_type": "markdown",
      "metadata": {
        "id": "rPlGfemhMlQY"
      },
      "source": [
        "Note that the function should return both the dataset with only `num_features` features, as well as the indices of exactly which columns they kept, in a list. For example, if:\n",
        "$$X=\\begin{bmatrix}1&0&0&1\\\\0&1&0&1\\end{bmatrix}$$\n",
        "and `num_features=2`, then one possible return value could be:\n",
        "$$X_{features}=\\begin{bmatrix}1&0\\\\0&1\\end{bmatrix}, cols=[0,1]$$"
      ]
    },
    {
      "cell_type": "code",
      "metadata": {
        "id": "uOuVVVzZMlQY"
      },
      "source": [
        "#TODO: Implement feature_sample\n",
        "#Parameters:\n",
        "#X- Training data, as a Pandas Dataframe\n",
        "#num_features - the number of features of the dataframe to keep\n",
        "#Returns:\n",
        "#The dataset, with only num_features features, as well as the indices of which columns were kept. \n",
        "def feature_sample(X,num_features):\n",
        "    #TODO: YOUR CODE HERE\n",
        "    X_features = X.sample(n=num_features, axis=1)\n",
        "    cols = []\n",
        "    for i in X_features.columns:\n",
        "      cols.append(X.columns.get_loc(i))\n",
        "    return X_features,cols"
      ],
      "execution_count": null,
      "outputs": []
    },
    {
      "cell_type": "markdown",
      "metadata": {
        "id": "JZYAdDIiMlQa"
      },
      "source": [
        "Finally, we get to the actual bootstrapped random forest! See each line for instructions on what to do. Also, there are some values here which you get to choose; feel free to play around with them to see what gives you the best accuracy. If you want to see what I used, I'll put the values up on Piazza next week. Note that if you run the later cells in this notebook, and come back here to change something, make sure to run this cell again."
      ]
    },
    {
      "cell_type": "code",
      "metadata": {
        "id": "-_pG7vADMlQa"
      },
      "source": [
        "def bootstrap_random_forest(num_trees=20,depth=2):\n",
        "    trees=[]\n",
        "    for _ in range(num_trees):\n",
        "        x_tree,y_tree=bootstrap_sample(X, y, 2860) #TODO: Fill in the arguments to this call\n",
        "        x_tree,cols=feature_sample(x_tree, 4) #TODO: Fill in the second argument to this call\n",
        "        dt=decision_tree(x_tree,y_tree,max_depth=depth) \n",
        "        trees.append((dt,cols))\n",
        "    return trees"
      ],
      "execution_count": null,
      "outputs": []
    },
    {
      "cell_type": "markdown",
      "metadata": {
        "id": "jLuIOYV0MlQb"
      },
      "source": [
        "Now, we have to use a function that can apply our model to the test set. Remember that in a bootstrapped random forest, we take a majority vote of all the trees to see what prediction to give on each example."
      ]
    },
    {
      "cell_type": "code",
      "metadata": {
        "id": "dRVfKjRSMlQc"
      },
      "source": [
        "def score_bootstrap_random_forest(rf, X,y):\n",
        "    individual_tree_predictions = [x.predict(X.iloc[:,cols]) for x,cols in rf]\n",
        "    #TODO: YOUR CODE HERE\n",
        "    #HINT: preds should be an array of 0s and 1s at the end, and individual_predictions \n",
        "    #contains the predictions of each tree on the entire test set.\n",
        "    preds=[]\n",
        "    for i in range(len(y)):\n",
        "      vote = 0\n",
        "      for tree in individual_tree_predictions:\n",
        "        vote += tree[i]\n",
        "      if vote > len(individual_tree_predictions)/2:\n",
        "        preds.append(1)\n",
        "      else:\n",
        "        preds.append(0)\n",
        "    return accuracy_score(y,preds)\n",
        "accuracies=[]"
      ],
      "execution_count": null,
      "outputs": []
    },
    {
      "cell_type": "markdown",
      "metadata": {
        "id": "3TAXLHFLMlQd"
      },
      "source": [
        "Now, we just run our bootstrap_random_forests for a bunch of different depths to produce accuracies. Note that if you change any of the above cells, you only have to run the cell you changed and this cell, not all of the definitions."
      ]
    },
    {
      "cell_type": "code",
      "metadata": {
        "id": "60akK2N4MlQe",
        "colab": {
          "base_uri": "https://localhost:8080/",
          "height": 265
        },
        "outputId": "f358f9c8-081c-4cc6-e020-6209ac86237b"
      },
      "source": [
        "for x in range(2,13):\n",
        "    accum=[0,0]\n",
        "    for i in range(10):\n",
        "        rf = bootstrap_random_forest(20,depth=x)\n",
        "        accum[0]+=score_bootstrap_random_forest(rf,X,y)\n",
        "        accum[1]+=score_bootstrap_random_forest(rf,X_test,y_test)\n",
        "    accuracies.append((accum[0]/10,accum[1]/10))\n",
        "plot_accuracies(accuracies)            "
      ],
      "execution_count": null,
      "outputs": [
        {
          "output_type": "display_data",
          "data": {
            "image/png": "[encoded data removed]",
            "text/plain": [
              "<Figure size 432x288 with 1 Axes>"
            ]
          },
          "metadata": {
            "tags": [],
            "needs_background": "light"
          }
        }
      ]
    },
    {
      "cell_type": "markdown",
      "metadata": {
        "id": "X1OKM33ZMlQf"
      },
      "source": [
        "## Method 2: Boosting"
      ]
    },
    {
      "cell_type": "markdown",
      "metadata": {
        "id": "t6kNmFWJMlQg"
      },
      "source": [
        "Now, bootstrapping is well and good, but three's something unsatisfying about it. We're just going to assign each tree a random subset of a data, a random subset of features, and hope everything works out? In particular, what stops all the trees from learning the same thing, and thus making the \"forest\" useless? Well, never fear, for boosting is here."
      ]
    },
    {
      "cell_type": "markdown",
      "metadata": {
        "id": "c7EABcSYMlQg"
      },
      "source": [
        "The basic idea of boosting, as we discussed in lecture, is that each tree empahsizes the other tree's errors, so we know that together, all the trees cover the entire dataset. The AdaBoost framework is the most popular way of implementing this idea, so it's what we're going to be implementing today. Ada boost is an algorithm of iterations, that can run many times. Each iteration has the following steps:\n",
        "- We figure out the best tree for the data, with the data's current weights (how important each example is). Either this tree is already in our forest, or we have to train a new tree, and add it in our forest. The way that we specifically do this is by calculating, for each tree, the sum of the weights of all examples it gets wrong. The tree that has the smallest such quantity is the one we choose, and we call that quantity $\\epsilon$\n",
        "- We calculate what the weight of this \"best\" tree should be, and we set its weight to that. The new weight (which we call $\\alpha$) of the  tree is, \n",
        "$$\\alpha=\\frac{1}{2}\\ln\\left(\\frac{1-\\epsilon}{\\epsilon}\\right)$$\n",
        "- We then have to update the weights of each of the examples. For an example i, let h be the best tree, which returns 1 for positive classifications, and -1 for negative classifications, and let y(x) be the actual result for example x, either 1 or -1 again (if this sounds confusing don't worry, it'll be explained more clearly when we get there). The formula for the updates is then\n",
        "$$w_{new}(i)=\\frac{w_{old}(i)}{C_{\\text{normalization}}}e^{-\\alpha*h(i)*y(i)}$$\n",
        "\n",
        "\n",
        "Note that $C_{\\text{normalization}} is just there to make sure the weights still sum to 1. We iterate over these 3 steps for a set number of iterations, and then we apply it to the testing set."
      ]
    },
    {
      "cell_type": "markdown",
      "metadata": {
        "id": "g_qRTZxaMlQg"
      },
      "source": [
        "### Step 1: Finding (or creating) the best_tree"
      ]
    },
    {
      "cell_type": "markdown",
      "metadata": {
        "id": "EVb3V_WsMlQg"
      },
      "source": [
        "In order to grade each tree and decide which is the best, we have to compute the hypothetical $\\epsilon$ value for each tree, and then choose the tree that produces the minimum one. We first have to create a tree and fit it to the data, and get its $\\epsilon$ value. Then we see if there is any existing tree that beats it. If not, then we add the new tree to our forest, and if so, then we just use the existing tree. "
      ]
    },
    {
      "cell_type": "code",
      "metadata": {
        "id": "pdQlIJ_pMlQh"
      },
      "source": [
        "#Parameters:\n",
        "#trees- a list of all the trees, over which we are searching for the best one\n",
        "#weights - the weights for each of the examples in the training data\n",
        "#X - the training data\n",
        "#y - the testing deta\n",
        "#depth - the depth of the tree that we should create and add to our trees, if none of the other trees are better.\n",
        "#Returns:\n",
        "#Either a tuple (bestIndex, best_epsilon), where bestIndex is the index of the tree that performed the best, and best_epsilon is its epsilon value\n",
        "#or, (best_epsilon,) which is when we've added a new tree to the end of the trees list, and we're sending its epsilon value\n",
        "def best_tree(trees,weights,X,y,depth):\n",
        "    new_tree=decision_tree(X, y, max_depth=depth, sample_weight=weights) #TODO: Fill in arguments to get tree trained on X and y, with weights w.\n",
        "    threshold=sum([weights[i] for i in np.where(new_tree.predict(X)!=y)[0]]) #TODO: Calculate the epsilon value for new_tree. \n",
        "    best_epsilon=len(X)\n",
        "    bestIndex=None\n",
        "    for i,tree in enumerate(trees):\n",
        "        tree_epsilon = sum([weights[i] for i in np.where(tree.predict(X)!=y)[0]])#TODO: Fill in this to calculate epsilon for a given tree.\n",
        "        if tree_epsilon<best_epsilon:\n",
        "            #TODO: Fill out to properly update best_epsilon and bestIndex\n",
        "            best_epsilon = tree_epsilon\n",
        "            bestIndex = i\n",
        "    if best_epsilon>threshold:\n",
        "        trees.append(new_tree)\n",
        "        return (threshold,) #This return signifies that the best tree was the new one, \n",
        "                            #so we are only sending the epsilon value, and not two arguments.\n",
        "    return bestIndex, best_epsilon"
      ],
      "execution_count": null,
      "outputs": []
    },
    {
      "cell_type": "markdown",
      "metadata": {
        "id": "aaYGju1iMlQj"
      },
      "source": [
        "### Step 2: Calculating $\\alpha$"
      ]
    },
    {
      "cell_type": "markdown",
      "metadata": {
        "id": "EbVueofZMlQk"
      },
      "source": [
        "Now, we have to make a method to calculate $\\alpha$, the coefficeint for a given tree, when we are given $\\epsilon$. Refer to the start of this section for the formula."
      ]
    },
    {
      "cell_type": "code",
      "metadata": {
        "id": "IuIpEvMKMlQk"
      },
      "source": [
        "#Parameters:\n",
        "#tree_epsilon - the epsilon for the best tree that was found\n",
        "#Returns:\n",
        "#Calculated alpha value\n",
        "def calculate_tree_alpha(tree_epsilon):\n",
        "    if tree_epsilon>=1:\n",
        "        return -1e6 #This is for numerical stability\n",
        "    #TODO: Use the formula to calculate alpha, given epsilon.\n",
        "    alpha = (1/2)*np.log((1-tree_epsilon)/tree_epsilon)\n",
        "    return alpha"
      ],
      "execution_count": null,
      "outputs": []
    },
    {
      "cell_type": "markdown",
      "metadata": {
        "id": "fxGL_aoqMlQn"
      },
      "source": [
        "### Step 3: Updating the weights"
      ]
    },
    {
      "cell_type": "markdown",
      "metadata": {
        "id": "AH95wE7XMlQo"
      },
      "source": [
        "Now, we have to update the weights for each of the examples. Here, we have a slight disconnect between the literature and what we have doing. In our y (outputs), we write 1 if there is CHD, and 0 if there's not. Most ML formula assume we will be using 1 and -1 as our outputs if we're doing two-way classification. The same applies to the outputs of decision trees; the formula assumes the tree outputs 1 and -1, not 1 and 0 like ours does, for its predictions. You will have to deal with this change when you are applying the formula.\n",
        "\n",
        "Also, don't actually try to figure out the value of $C_{normalization}$ beforehand. Instead, compute the weights without it, and then just divide all of the weights by their sum. "
      ]
    },
    {
      "cell_type": "code",
      "metadata": {
        "id": "ZvLm5XmOMlQo"
      },
      "source": [
        "#Parameters:\n",
        "#weights - The original weights of each example\n",
        "#best_tree - The tree that had the best epsilon values, given the example weights in weights\n",
        "#y - The true output for each example\n",
        "#alpha - The calculated alpha value for the best_tree\n",
        "#Returns:\n",
        "#The updated weights\n",
        "def updateWeights(weights, best_tree,y,alpha):\n",
        "    #TODO: YOUR CODE HERE\n",
        "    predict = best_tree.predict(X)\n",
        "    for i in range(len(X)):\n",
        "      if predict[i]==0:\n",
        "        weights[i]=weights[i]*np.e**(-alpha*-1*y.iloc[i])\n",
        "      else:\n",
        "        weights[i]=weights[i]*np.e**(-alpha*1*y.iloc[i])\n",
        "    weights=weights/sum(weights)\n",
        "    return weights"
      ],
      "execution_count": null,
      "outputs": []
    },
    {
      "cell_type": "markdown",
      "metadata": {
        "id": "k85ceRd-MlQp"
      },
      "source": [
        "Finally, we need to make the actual boosted_random_forest method. There's a few to-dos here, so I'm not going to explain them here, suffice to say that you will need to call the methods you developed before at some points."
      ]
    },
    {
      "cell_type": "code",
      "metadata": {
        "id": "jnyaKYDoMlQq"
      },
      "source": [
        "def boosted_random_forest(X,y,num_iterations=90,depth=10):\n",
        "    trees=[]\n",
        "    tree_alphas=[]\n",
        "    #TODO: Set weights to a numpy array that has the same number of rows as X (one row for each example), \n",
        "    #and the same element in each spot, but all the elements should add up to 1. \n",
        "    #Hint: https://numpy.org/devdocs/reference/generated/numpy.full.html \n",
        "    weights = np.full(len(X), 1/len(X))\n",
        "    for i in range(num_iterations):\n",
        "        print(\"Depth {}: Iteration {}\".format(depth,i),end='\\r')\n",
        "        \n",
        "        #TODO: We need the best tree of all the trees in the current list of trees; \n",
        "        #do we have a method to do that?\n",
        "        result=best_tree(trees, weights, X, y, depth)\n",
        "        if  len(result)==1:\n",
        "            epsilon=result[0]\n",
        "            tree_alphas.append(calculate_tree_alpha(epsilon))#TODO: Fix this line so it calculates alpha, and adds it to tree_alphas\n",
        "            #TODO: Fix this line so that it updates the weights correctly\n",
        "            #(hint: how can we access the tree that was just created?)\n",
        "            weights = updateWeights(weights, trees[-1], y, tree_alphas[-1])\n",
        "        else:\n",
        "            epsilon=result[1]\n",
        "            tree_alphas[result[0]]=calculate_tree_alpha(epsilon) #TODO: Fix this line so it calculates alpha, and sets it in tree_alphas\n",
        "            chosen_tree=trees[result[0]]\n",
        "            #TODO: Fix this line so that it updates the weights correctly\n",
        "            weights = updateWeights(weights, chosen_tree, y, tree_alphas[result[0]])\n",
        "    return trees,tree_alphas"
      ],
      "execution_count": null,
      "outputs": []
    },
    {
      "cell_type": "markdown",
      "metadata": {
        "id": "_d8VybHLMlQr"
      },
      "source": [
        "Now, we just write the scoring function for AdaBoost. "
      ]
    },
    {
      "cell_type": "code",
      "metadata": {
        "id": "EbjoWUW8MlQr"
      },
      "source": [
        "def score_boosted_random_forest(rf,X,y):\n",
        "    lis=[(rf[0][i].predict(X)*2-1)*rf[1][i] for i in range(len(rf[0]))]\n",
        "    total=reduce(np.add, lis)\n",
        "    preds=(np.sign(total)+1)/2\n",
        "    return accuracy_score(preds,y)"
      ],
      "execution_count": null,
      "outputs": []
    },
    {
      "cell_type": "markdown",
      "metadata": {
        "id": "rzdSYIR9MlQt"
      },
      "source": [
        "Now, we finally score the model for a bunch of different depths."
      ]
    },
    {
      "cell_type": "code",
      "metadata": {
        "id": "8pyotg1cMlQt",
        "colab": {
          "base_uri": "https://localhost:8080/",
          "height": 265
        },
        "outputId": "2b2f1ab3-5c7b-4d00-cf64-78cc54651645"
      },
      "source": [
        "accuracies=[]\n",
        "for x in range(2,13):\n",
        "    rf = boosted_random_forest(X,y,depth=x)\n",
        "    accuracies.append((score_boosted_random_forest(rf,X,y),score_boosted_random_forest(rf,X_test,y_test)))\n",
        "plot_accuracies(accuracies)"
      ],
      "execution_count": null,
      "outputs": [
        {
          "output_type": "stream",
          "text": [
            ""
          ],
          "name": "stdout"
        },
        {
          "output_type": "display_data",
          "data": {
            "image/png": "[encoded data removed]",
            "text/plain": [
              "<Figure size 432x288 with 1 Axes>"
            ]
          },
          "metadata": {
            "tags": [],
            "needs_background": "light"
          }
        }
      ]
    },
    {
      "cell_type": "markdown",
      "metadata": {
        "id": "4isk-ry5MlQv"
      },
      "source": [
        "You might notice that the test accuracy of the random forest is actuallly  better than either AdaBoost or decision trees(hint; if your random forest isn't doing too well, try raising the amount of data in each bootstrap sample, or the amount of fatures that each tree gets to use). In your own words, explain why AdaBoost has bad test accuracy, even as such an advanced algorithm."
      ]
    },
    {
      "cell_type": "markdown",
      "metadata": {
        "id": "45TlAjFCMlQw"
      },
      "source": [
        "AdaBoost trains the tree on previous errors which means that it would not know whether or not the previous tree got its prediction correct and it would lead the further trees to make mistakes in training."
      ]
    },
    {
      "cell_type": "markdown",
      "metadata": {
        "id": "EsmKxtpvMlQw"
      },
      "source": [
        "Something to ponder; Even though 86% accuracy might seem pretty good, why is that actually pretty terrible on this dataset? (Hint; take another look at the data cleaning section). This tells us that decision trees are probably not the best model for this data, unfortunately."
      ]
    },
    {
      "cell_type": "markdown",
      "metadata": {
        "id": "NkoJ9P2kMlQw"
      },
      "source": [
        "## References"
      ]
    },
    {
      "cell_type": "markdown",
      "metadata": {
        "id": "NRfR7_0_MlQw"
      },
      "source": [
        "[Dataset](https://www.kaggle.com/dileep070/heart-disease-prediction-using-logistic-regression)"
      ]
    }
  ]
}